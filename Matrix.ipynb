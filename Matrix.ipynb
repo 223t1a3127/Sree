{
  "nbformat": 4,
  "nbformat_minor": 0,
  "metadata": {
    "colab": {
      "provenance": [],
      "authorship_tag": "ABX9TyMBd3hGb1ROjImFPEFKeTny",
      "include_colab_link": true
    },
    "kernelspec": {
      "name": "python3",
      "display_name": "Python 3"
    },
    "language_info": {
      "name": "python"
    }
  },
  "cells": [
    {
      "cell_type": "markdown",
      "metadata": {
        "id": "view-in-github",
        "colab_type": "text"
      },
      "source": [
        "<a href=\"https://colab.research.google.com/github/223t1a3127/Sree/blob/main/Matrix.ipynb\" target=\"_parent\"><img src=\"https://colab.research.google.com/assets/colab-badge.svg\" alt=\"Open In Colab\"/></a>"
      ]
    },
    {
      "cell_type": "code",
      "execution_count": null,
      "metadata": {
        "colab": {
          "base_uri": "https://localhost:8080/"
        },
        "id": "OiGyblrCBzXK",
        "outputId": "a39485ca-d61d-40be-d028-f43e455fa123"
      },
      "outputs": [
        {
          "output_type": "stream",
          "name": "stdout",
          "text": [
            "2\n",
            "2\n",
            "1  2\n",
            "3    4\n",
            "5  6\n",
            "7   8\n",
            "[[6, 8], [10, 12]]\n"
          ]
        }
      ],
      "source": [
        "#ADDITION OF MATRICES\n",
        "rows=int(input())\n",
        "cols=int(input())\n",
        "mat1=[]\n",
        "mat2=[]\n",
        "for i in range(rows):\n",
        "  arr=list(map(int,input().split()))\n",
        "  mat1.append(arr)\n",
        "for i in range(rows):\n",
        "  arr1=list(map(int,input().split()))\n",
        "  mat2.append(arr1)\n",
        "res=[]\n",
        "for i in range(rows):\n",
        "  row=[]\n",
        "  for j in range(cols):\n",
        "    row.append(mat1[i][j] + mat2[i][j])\n",
        "  res.append(row)\n",
        "print(res)\n"
      ]
    },
    {
      "cell_type": "code",
      "source": [
        "#SUBTRACTION OF MATRICES\n",
        "rows=int(input())\n",
        "cols=int(input())\n",
        "mat1=[]\n",
        "mat2=[]\n",
        "for i in range(rows):\n",
        "  arr=list(map(int,input().split()))\n",
        "  mat1.append(arr)\n",
        "for i in range(rows):\n",
        "  arr1=list(map(int,input().split()))\n",
        "  mat2.append(arr1)\n",
        "res=[]\n",
        "for i in range(rows):\n",
        "  row=[]\n",
        "  for j in range(cols):\n",
        "    row.append(mat1[i][j] - mat2[i][j])\n",
        "  res.append(row)\n",
        "print(res)\n"
      ],
      "metadata": {
        "colab": {
          "base_uri": "https://localhost:8080/"
        },
        "id": "pw2f5Veo6qOR",
        "outputId": "6874981d-ff0c-465b-c63f-24e85da74af4"
      },
      "execution_count": null,
      "outputs": [
        {
          "output_type": "stream",
          "name": "stdout",
          "text": [
            "2\n",
            "2\n",
            "1     2\n",
            "5         8\n",
            "5   6\n",
            "4    2\n",
            "[[-4, -4], [1, 6]]\n"
          ]
        }
      ]
    },
    {
      "cell_type": "code",
      "source": [
        "#TRANSPOSE OF A MATRIX\n",
        "rows=int(input())\n",
        "cols=int(input())\n",
        "mat1=[]\n",
        "for i in range(rows):\n",
        "  arr=list(map(int,input().split()))\n",
        "  mat1.append(arr)\n",
        "for i in range(rows):\n",
        "  for j in range(cols):\n",
        "    print(mat1[j][i],end= \" \")\n",
        "  print()"
      ],
      "metadata": {
        "colab": {
          "base_uri": "https://localhost:8080/"
        },
        "id": "ttMItiwL9VSR",
        "outputId": "b8ae8d3f-a16c-48fb-f5b0-e1f4399eebc0"
      },
      "execution_count": null,
      "outputs": [
        {
          "output_type": "stream",
          "name": "stdout",
          "text": [
            "2\n",
            "2\n",
            "1    2\n",
            "3        4\n",
            "1 3 \n",
            "2 4 \n"
          ]
        }
      ]
    }
  ]
}